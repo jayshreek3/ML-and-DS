{
 "cells": [
  {
   "cell_type": "markdown",
   "id": "097fe28f",
   "metadata": {},
   "source": [
    "# Name - Jayshree Keskar\n",
    "# Roll no. BI27 BEIT\n",
    "# Assignment No. 5\n",
    "# Aim - Text classification for Sentimental analysis using KNN Note: Use twitter                data."
   ]
  },
  {
   "cell_type": "markdown",
   "id": "2872780b",
   "metadata": {},
   "source": [
    "# Import Packages"
   ]
  },
  {
   "cell_type": "code",
   "execution_count": 36,
   "id": "910aae22",
   "metadata": {},
   "outputs": [],
   "source": [
    "import nltk\n",
    "from nltk.corpus import twitter_samples\n",
    "import numpy as np"
   ]
  },
  {
   "cell_type": "code",
   "execution_count": 37,
   "id": "afa1f6da",
   "metadata": {},
   "outputs": [
    {
     "name": "stderr",
     "output_type": "stream",
     "text": [
      "[nltk_data] Downloading package twitter_samples to\n",
      "[nltk_data]     C:\\Users\\jaysh\\AppData\\Roaming\\nltk_data...\n",
      "[nltk_data]   Package twitter_samples is already up-to-date!\n"
     ]
    },
    {
     "data": {
      "text/plain": [
       "True"
      ]
     },
     "execution_count": 37,
     "metadata": {},
     "output_type": "execute_result"
    }
   ],
   "source": [
    "nltk.download('twitter_samples')"
   ]
  },
  {
   "cell_type": "code",
   "execution_count": 38,
   "id": "6a014874",
   "metadata": {},
   "outputs": [],
   "source": [
    "# select the set of positive and negative tweets\n",
    "all_positive_tweets = twitter_samples.strings('positive_tweets.json')\n",
    "all_negative_tweets = twitter_samples.strings('negative_tweets.json')"
   ]
  },
  {
   "cell_type": "code",
   "execution_count": 39,
   "id": "fb798837",
   "metadata": {},
   "outputs": [
    {
     "name": "stdout",
     "output_type": "stream",
     "text": [
      "Number of positive tweets:  5000\n",
      "Number of negative tweets:  5000\n",
      "\n",
      "The type of all_positive_tweets is:  <class 'list'>\n",
      "The type of a tweet entry is:  <class 'str'>\n"
     ]
    }
   ],
   "source": [
    "print('Number of positive tweets: ', len(all_positive_tweets))\n",
    "print('Number of negative tweets: ', len(all_negative_tweets))\n",
    "\n",
    "print('\\nThe type of all_positive_tweets is: ', type(all_positive_tweets))\n",
    "print('The type of a tweet entry is: ', type(all_negative_tweets[0]))"
   ]
  },
  {
   "cell_type": "markdown",
   "id": "61a5f9b1",
   "metadata": {},
   "source": [
    "print(\"Positive Tweet Example:\")\n",
    "print(all_positive_tweets[0])\n",
    "\n",
    "print(\"\\nNegative Tweet Example:\")\n",
    "print(all_negative_tweets[0])"
   ]
  },
  {
   "cell_type": "markdown",
   "id": "75734674",
   "metadata": {},
   "source": [
    "# Preprocess Tweets"
   ]
  },
  {
   "cell_type": "code",
   "execution_count": 40,
   "id": "921a8aa8",
   "metadata": {},
   "outputs": [],
   "source": [
    "import re                                  # library for regular expression operations\n",
    "import string                              # for string operations\n",
    "\n",
    "from nltk.corpus import stopwords          # module for stop words that come with NLTK\n",
    "from nltk.stem import PorterStemmer        # module for stemming\n",
    "from nltk.tokenize import TweetTokenizer   # module for tokenizing strings"
   ]
  },
  {
   "cell_type": "markdown",
   "id": "690810ef",
   "metadata": {},
   "source": [
    "\n",
    "### Remove hyperlinks, Twitter marks and styles\n",
    "\n",
    "We do not want to use every word in a tweet because many tweets have hashtags, retweet marks, and hyperlinks. We will use regular expressions to remove them from a tweet"
   ]
  },
  {
   "cell_type": "code",
   "execution_count": 41,
   "id": "72d5296e",
   "metadata": {},
   "outputs": [],
   "source": [
    "def remove_hyperlinks_marks_styles(tweet):\n",
    "    \n",
    "    # remove old style retweet text \"RT\"\n",
    "    new_tweet = re.sub(r'^RT[\\s]+', '', tweet)\n",
    "\n",
    "    # remove hyperlinks\n",
    "    new_tweet = re.sub(r'https?:\\/\\/.*[\\r\\n]*', '', new_tweet)\n",
    "\n",
    "    # remove hashtags\n",
    "    # only removing the hash # sign from the word\n",
    "    new_tweet = re.sub(r'#', '', new_tweet)\n",
    "    \n",
    "    return new_tweet"
   ]
  },
  {
   "cell_type": "markdown",
   "id": "56b61a06",
   "metadata": {},
   "source": [
    "\n",
    "### Tokenize the string\n",
    "\n",
    "To tokenize means to split a string into individual words.\n"
   ]
  },
  {
   "cell_type": "code",
   "execution_count": 42,
   "id": "132030cf",
   "metadata": {},
   "outputs": [],
   "source": [
    "# instantiate tokenizer class\n",
    "tokenizer = TweetTokenizer(preserve_case=False, strip_handles=True,\n",
    "                               reduce_len=True)\n",
    "\n",
    "def tokenize_tweet(tweet):\n",
    "    \n",
    "    tweet_tokens = tokenizer.tokenize(tweet)\n",
    "    \n",
    "    return tweet_tokens"
   ]
  },
  {
   "cell_type": "markdown",
   "id": "8efc52be",
   "metadata": {},
   "source": [
    "### Remove stop works and punctuations\n",
    "\n",
    "Remove stop words and punctuations. Stop words are words that don't add significant meaning to the text. For example, 'i' and 'me'.\n"
   ]
  },
  {
   "cell_type": "code",
   "execution_count": 43,
   "id": "11984be4",
   "metadata": {},
   "outputs": [
    {
     "name": "stderr",
     "output_type": "stream",
     "text": [
      "[nltk_data] Downloading package stopwords to\n",
      "[nltk_data]     C:\\Users\\jaysh\\AppData\\Roaming\\nltk_data...\n",
      "[nltk_data]   Package stopwords is already up-to-date!\n"
     ]
    }
   ],
   "source": [
    "nltk.download('stopwords')\n",
    "\n",
    "#Import the english stop words list from NLTK\n",
    "stopwords_english = stopwords.words('english')\n",
    "\n",
    "punctuations = string.punctuation\n",
    "\n",
    "def remove_stopwords_punctuations(tweet_tokens):\n",
    "    \n",
    "    tweets_clean = []\n",
    "    \n",
    "    for word in tweet_tokens:\n",
    "        if (word not in stopwords_english and word not in punctuations):\n",
    "            tweets_clean.append(word)\n",
    "            \n",
    "    return tweets_clean\n",
    "\n"
   ]
  },
  {
   "cell_type": "markdown",
   "id": "9d0cca08",
   "metadata": {},
   "source": [
    "\n",
    "Stemming\n",
    "\n",
    "The process of converting a word to its most general form, or stem.\n",
    "\n",
    "learning -> learn\n",
    "\n",
    "learned -> learn\n",
    "\n",
    "learnt -> learn\n"
   ]
  },
  {
   "cell_type": "code",
   "execution_count": 44,
   "id": "112cadfa",
   "metadata": {},
   "outputs": [],
   "source": [
    "stemmer = PorterStemmer()\n",
    "\n",
    "def get_stem(tweets_clean):\n",
    "    \n",
    "    tweets_stem = []\n",
    "    \n",
    "    for word in tweets_clean:\n",
    "        stem_word = stemmer.stem(word)\n",
    "        tweets_stem.append(stem_word)\n",
    "        \n",
    "    return tweets_stem"
   ]
  },
  {
   "cell_type": "code",
   "execution_count": 45,
   "id": "35c357f7",
   "metadata": {},
   "outputs": [
    {
     "name": "stdout",
     "output_type": "stream",
     "text": [
      "My beautiful sunflowers on a sunny Friday morning off :) #sunflowers #favourites #happy #Friday off… https://t.co/3tfYom0N1i\n",
      "\n",
      "Removed hyperlinks, Twitter marks and styles:\n",
      "My beautiful sunflowers on a sunny Friday morning off :) sunflowers favourites happy Friday off… \n",
      "\n",
      "Tokenize the string:\n",
      "['my', 'beautiful', 'sunflowers', 'on', 'a', 'sunny', 'friday', 'morning', 'off', ':)', 'sunflowers', 'favourites', 'happy', 'friday', 'off', '…']\n",
      "\n",
      "Remove stop words and punctuations:\n",
      "['beautiful', 'sunflowers', 'sunny', 'friday', 'morning', ':)', 'sunflowers', 'favourites', 'happy', 'friday', '…']\n",
      "\n",
      "Get stem of each word:\n",
      "['beauti', 'sunflow', 'sunni', 'friday', 'morn', ':)', 'sunflow', 'favourit', 'happi', 'friday', '…']\n"
     ]
    }
   ],
   "source": [
    "tweet_example = all_positive_tweets[2277]\n",
    "print(tweet_example)\n",
    "\n",
    "processed_tweet = remove_hyperlinks_marks_styles(tweet_example)\n",
    "print(\"\\nRemoved hyperlinks, Twitter marks and styles:\")\n",
    "print(processed_tweet)\n",
    "\n",
    "tweet_tokens = tokenize_tweet(processed_tweet)\n",
    "print(\"\\nTokenize the string:\")\n",
    "print(tweet_tokens)\n",
    "\n",
    "tweets_clean = remove_stopwords_punctuations(tweet_tokens)\n",
    "print(\"\\nRemove stop words and punctuations:\")\n",
    "print(tweets_clean)\n",
    "\n",
    "tweets_stem = get_stem(tweets_clean)\n",
    "print(\"\\nGet stem of each word:\")\n",
    "print(tweets_stem)"
   ]
  },
  {
   "cell_type": "markdown",
   "id": "8f05e6a9",
   "metadata": {},
   "source": [
    "## Combine all preprocess techniques"
   ]
  },
  {
   "cell_type": "code",
   "execution_count": 46,
   "id": "ee80e5e0",
   "metadata": {},
   "outputs": [],
   "source": [
    "def process_tweet(tweet):\n",
    "    \n",
    "    processed_tweet = remove_hyperlinks_marks_styles(tweet)\n",
    "    tweet_tokens = tokenize_tweet(processed_tweet)\n",
    "    tweets_clean = remove_stopwords_punctuations(tweet_tokens)\n",
    "    tweets_stem = get_stem(tweets_clean)\n",
    "    \n",
    "    return tweets_stem"
   ]
  },
  {
   "cell_type": "code",
   "execution_count": 47,
   "id": "60e0d758",
   "metadata": {},
   "outputs": [
    {
     "name": "stdout",
     "output_type": "stream",
     "text": [
      "@seanactual You mean you're not offering? :(\n",
      "['mean', 'offer', ':(']\n"
     ]
    }
   ],
   "source": [
    "tweet_example = all_negative_tweets[1000]\n",
    "print(tweet_example)\n",
    "\n",
    "processed_tweet = process_tweet(tweet_example)\n",
    "print(processed_tweet)"
   ]
  },
  {
   "cell_type": "markdown",
   "id": "79fffc5d",
   "metadata": {},
   "source": [
    "\n",
    "## Split data into two pieces, one for training and one for testing"
   ]
  },
  {
   "cell_type": "code",
   "execution_count": 48,
   "id": "70521a16",
   "metadata": {},
   "outputs": [],
   "source": [
    "test_pos = all_positive_tweets[4000:]\n",
    "train_pos = all_positive_tweets[:4000]\n",
    "test_neg = all_negative_tweets[4000:]\n",
    "train_neg = all_negative_tweets[:4000]\n",
    "\n",
    "train_x = train_pos + train_neg\n",
    "test_x = test_pos + test_neg\n",
    "\n",
    "train_y = np.append(np.ones(len(train_pos)), np.zeros(len(train_neg)))\n",
    "test_y = np.append(np.ones(len(test_pos)), np.zeros(len(test_neg)))"
   ]
  },
  {
   "cell_type": "markdown",
   "id": "1d2d7a7c",
   "metadata": {},
   "source": [
    "### Create frequency dictionary"
   ]
  },
  {
   "cell_type": "code",
   "execution_count": 49,
   "id": "f2d8c09a",
   "metadata": {},
   "outputs": [],
   "source": [
    "def create_frequency(tweets, ys):\n",
    "    \n",
    "    freq_d = {}\n",
    "\n",
    "    # TODO: Create frequency dictionary\n",
    "    for tweet, y in zip(tweets, ys):\n",
    "        for word in process_tweet(tweet):\n",
    "            \n",
    "            pair = (word, y)\n",
    "            \n",
    "            if pair in freq_d:\n",
    "                freq_d[pair]+=1\n",
    "            \n",
    "            else:\n",
    "                freq_d[pair] = freq_d.get(pair, 1)\n",
    "            \n",
    "        \n",
    "    \n",
    "    return freq_d"
   ]
  },
  {
   "cell_type": "code",
   "execution_count": 50,
   "id": "2deb9c6c",
   "metadata": {},
   "outputs": [
    {
     "name": "stdout",
     "output_type": "stream",
     "text": [
      "{('happi', 1): 1, ('trick', 0): 1, ('sad', 0): 1, ('tire', 0): 2}\n"
     ]
    }
   ],
   "source": [
    "# testing function\n",
    "\n",
    "tweets = ['i am happy', 'i am tricked', 'i am sad', 'i am tired', 'i am tired']\n",
    "ys = [1, 0, 0, 0, 0]\n",
    "\n",
    "freq_d = create_frequency(tweets, ys)\n",
    "print(freq_d)"
   ]
  },
  {
   "cell_type": "markdown",
   "id": "876d8067",
   "metadata": {},
   "source": [
    "# Train model using Naive Bayes"
   ]
  },
  {
   "cell_type": "code",
   "execution_count": 51,
   "id": "0fe5a5fc",
   "metadata": {},
   "outputs": [],
   "source": [
    "# build the freqs dictionary\n",
    "\n",
    "freqs = create_frequency(train_x, train_y)"
   ]
  },
  {
   "cell_type": "code",
   "execution_count": 54,
   "id": "e1b0dd9b",
   "metadata": {},
   "outputs": [],
   "source": [
    "def train_naive_bayes(freqs, train_x, train_y):\n",
    "    '''\n",
    "    Input:\n",
    "        freqs: dictionary from (word, label) to how often the word appears\n",
    "        train_x: a list of tweets\n",
    "        train_y: a list of labels correponding to the tweets (0,1)\n",
    "    Output:\n",
    "        logprior: the log prior. (equation 3 above)\n",
    "        loglikelihood: the log likelihood of you Naive bayes equation. (equation 6 above)\n",
    "    '''\n",
    "    \n",
    "    loglikelihood = {}\n",
    "    logprior = 0\n",
    "    \n",
    "    # calculate the number of unique words in vocab\n",
    "    unique_words = set([pair[0] for pair in freqs.keys()])\n",
    "    V = len(unique_words)\n",
    "    \n",
    "    # calculate N_pos and N_neg\n",
    "    N_pos = N_neg = 0\n",
    "    for pair in freqs.keys():\n",
    "        \n",
    "        # TODO: get N_pos and N_get\n",
    "        if pair[1]>0:\n",
    "            N_pos += freqs[(pair)]\n",
    "        else:\n",
    "            N_neg += freqs[(pair)]\n",
    "            \n",
    "    # TODO: calculate the number of documents (tweets)\n",
    "    D = train_y.shape[0]\n",
    "    \n",
    "    # TODO: calculate D_pos, the number of positive documents (tweets)\n",
    "    D_pos = sum(train_y)\n",
    "    \n",
    "    # TODO: calculate D_neg, the number of negative documents (tweets)\n",
    "    D_neg = D - sum(train_y) \n",
    "    \n",
    "    # TODO: calculate logprior\n",
    "    logprior = np.log(D_pos) - np.log(D_neg)\n",
    "    \n",
    "    # for each unqiue word\n",
    "    for word in unique_words:\n",
    "        \n",
    "        # get the positive and negative frequency of the word\n",
    "        freq_pos = freqs.get((word, 1),0)\n",
    "        freq_neg = freqs.get((word, 0),0)\n",
    "        \n",
    "        # calculate the probability that word is positive, and negative\n",
    "        p_w_pos = (freq_pos + 1) / (N_pos + V)\n",
    "        p_w_neg = (freq_neg + 1) / (N_neg + V)\n",
    "        \n",
    "        # calculate the log likelihood of the word\n",
    "        loglikelihood[word] = np.log(p_w_pos / p_w_neg)\n",
    "        \n",
    "    return logprior, loglikelihood"
   ]
  },
  {
   "cell_type": "code",
   "execution_count": 55,
   "id": "8db09f2b",
   "metadata": {},
   "outputs": [
    {
     "name": "stdout",
     "output_type": "stream",
     "text": [
      "0.0\n",
      "9083\n"
     ]
    }
   ],
   "source": [
    "logprior, loglikelihood = train_naive_bayes(freqs, train_x, train_y)\n",
    "print(logprior)\n",
    "print(len(loglikelihood))"
   ]
  },
  {
   "cell_type": "markdown",
   "id": "a94da883",
   "metadata": {},
   "source": [
    "# Predict Tweets"
   ]
  },
  {
   "cell_type": "code",
   "execution_count": 56,
   "id": "b0ba7270",
   "metadata": {},
   "outputs": [],
   "source": [
    "# UNQ_C4 (UNIQUE CELL IDENTIFIER, DO NOT EDIT)\n",
    "def naive_bayes_predict(tweet, logprior, loglikelihood):\n",
    "    '''\n",
    "    Input:\n",
    "        tweet: a string\n",
    "        logprior: a number\n",
    "        loglikelihood: a dictionary of words mapping to numbers\n",
    "    Output:\n",
    "        p: the sum of all the logliklihoods of each word in the tweet (if found in the dictionary) + logprior (a number)\n",
    "\n",
    "    '''\n",
    "\n",
    "    # TODO: process the tweet to get a list of words\n",
    "    word_l = process_tweet(tweet)\n",
    "\n",
    "    # TODO: initialize probability to zero\n",
    "    p = 0\n",
    "\n",
    "    # TODO: add the logprior\n",
    "    p += logprior\n",
    "    \n",
    "    for word in word_l:\n",
    "        if word in loglikelihood:\n",
    "            p+= loglikelihood[word]\n",
    "        \n",
    "\n",
    "    return p"
   ]
  },
  {
   "cell_type": "code",
   "execution_count": 57,
   "id": "9aad9088",
   "metadata": {},
   "outputs": [
    {
     "name": "stdout",
     "output_type": "stream",
     "text": [
      "I an happy ->2.15\n",
      "I am bad ->-1.29\n",
      "this movie should have been great ->2.14\n",
      "great ->2.14\n",
      "great great ->4.28\n",
      "great great great ->6.41\n",
      "great great great great ->8.55\n",
      "bad bad bad bad ->-5.18\n"
     ]
    }
   ],
   "source": [
    "# run this cell to test your function\n",
    "\n",
    "for tweet in['I an happy', 'I am bad', 'this movie should have been great','great','great great','great great great','great great great great','bad bad bad bad']:\n",
    "    p=naive_bayes_predict(tweet, logprior, loglikelihood)\n",
    "    print(f'{tweet} ->{p:.2f}')"
   ]
  },
  {
   "cell_type": "code",
   "execution_count": null,
   "id": "5dc79cd7",
   "metadata": {},
   "outputs": [],
   "source": []
  }
 ],
 "metadata": {
  "kernelspec": {
   "display_name": "Python 3",
   "language": "python",
   "name": "python3"
  },
  "language_info": {
   "codemirror_mode": {
    "name": "ipython",
    "version": 3
   },
   "file_extension": ".py",
   "mimetype": "text/x-python",
   "name": "python",
   "nbconvert_exporter": "python",
   "pygments_lexer": "ipython3",
   "version": "3.8.8"
  }
 },
 "nbformat": 4,
 "nbformat_minor": 5
}
